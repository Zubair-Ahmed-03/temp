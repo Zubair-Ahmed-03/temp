{
 "cells": [
  {
   "cell_type": "code",
   "execution_count": 1,
   "id": "534204fd-4e9d-449b-903c-7a9a29210ff5",
   "metadata": {},
   "outputs": [
    {
     "name": "stdout",
     "output_type": "stream",
     "text": [
      "Step 1: Key Generation\n",
      "Private Key (hex): 1c70ad9c314880c182ed9d757ee6e44bbeb7538fdd21f16358c2842219e8f148\n",
      "Public Key (hex): 04e866ebb60b0d98970ee9368fb61ada619019fc6ead91df5b8025e70932f815057e3be24b6965c3d39533b03285d77af35e825523a54ef89742c0767de3c70622\n"
     ]
    }
   ],
   "source": [
    "from ecies.utils import generate_key\n",
    "from ecies import encrypt, decrypt\n",
    "import hashlib\n",
    "# Step 1: Generate private and public keys\n",
    "private_key = generate_key()\n",
    "private_key_hex = private_key.to_hex()\n",
    "public_key_hex = private_key.public_key.format(compressed=False).hex()  # Public key in hex\n",
    "print(\"Step 1: Key Generation\")\n",
    "print(\"Private Key (hex):\", private_key_hex)\n",
    "print(\"Public Key (hex):\", public_key_hex)"
   ]
  },
  {
   "cell_type": "code",
   "execution_count": 2,
   "id": "0fee3cdf-f408-45ba-8d58-9d61cdf8beef",
   "metadata": {},
   "outputs": [
    {
     "name": "stdin",
     "output_type": "stream",
     "text": [
      "\n",
      "Step 2: Enter the message to encrypt:  check 1 check 2\n"
     ]
    },
    {
     "name": "stdout",
     "output_type": "stream",
     "text": [
      "\n",
      "Original Message: check 1 check 2\n"
     ]
    }
   ],
   "source": [
    "# Step 2: User input for message to encrypt\n",
    "message = input(\"\\nStep 2: Enter the message to encrypt: \").encode('utf-8')\n",
    "print(\"\\nOriginal Message:\", message.decode())"
   ]
  },
  {
   "cell_type": "code",
   "execution_count": 3,
   "id": "9122ebbe-4ec4-44da-a005-e9b041bb867b",
   "metadata": {},
   "outputs": [
    {
     "name": "stdout",
     "output_type": "stream",
     "text": [
      "\n",
      "Step 3: Encrypting the message (ECIES)\n",
      "\n",
      "Detailed Encryption Process:\n",
      "Shared Secret derived (ECDH): 54eb412ee1dd664e04f3d0dc23a71cad58c162e164f50c308eb783802c9b84ee\n",
      "Derived Key (SHA-256): 5730c6201a30f5048eb48c3171912c7c45039215f732662c96f233f2efd34422\n",
      "Encryption Key (AES): 5730c6201a30f5048eb48c3171912c7c\n",
      "MAC Key: 45039215f732662c96f233f2efd34422\n",
      "\n",
      "Encrypted Message (hex): 042d0ed8bd58d4f9e6e4cd9a83f8ec3665ca897516c5196d9a477fcfe238d12899977af8a196f6cb0d0a01f137df3a93cb4b671a4dd979b4501051814be47de6733c967620cbed18b0af654b2ac4a8de804b6c244a6b8d6755f9837410a6c711f06b57a4ff458cd4b03adbaedffb0b16\n"
     ]
    }
   ],
   "source": [
    "# Step 3: Encrypt the message using the encrypt() function\n",
    "print(\"\\nStep 3: Encrypting the message (ECIES)\")\n",
    "encrypted_message = encrypt(public_key_hex, message)\n",
    "# ECIES encryption process - Detailed\n",
    "print(\"\\nDetailed Encryption Process:\")\n",
    "# 3.1: The sender uses the receiver's public key and their private key to derive the shared secret (ECDH)\n",
    "# Correctly passing the public key in bytes format\n",
    "receiver_public_key = bytes.fromhex(public_key_hex)  # Receiver's public key in bytes\n",
    "sender_shared_secret = private_key.ecdh(receiver_public_key)\n",
    "print(\"Shared Secret derived (ECDH):\", sender_shared_secret.hex())\n",
    "# 3.2: KDF to derive the encryption key and MAC key from the shared secret\n",
    "derived_key = hashlib.sha256(sender_shared_secret).digest()  # Use SHA-256 as KDF (for simplicity)\n",
    "encryption_key = derived_key[:16]  # AES encryption key (first 16 bytes)\n",
    "mac_key = derived_key[16:]  # MAC key (next 16 bytes)\n",
    "print(\"Derived Key (SHA-256):\", derived_key.hex())\n",
    "print(\"Encryption Key (AES):\", encryption_key.hex())\n",
    "print(\"MAC Key:\", mac_key.hex())\n",
    "# 3.3: AES encryption is done using the encryption key (AES encryption) and the message is encrypted\n",
    "print(\"\\nEncrypted Message (hex):\", encrypted_message.hex())"
   ]
  },
  {
   "cell_type": "code",
   "execution_count": 4,
   "id": "5983c35f-84dd-4d47-b5f6-e64e1fb71d76",
   "metadata": {},
   "outputs": [
    {
     "name": "stdout",
     "output_type": "stream",
     "text": [
      "\n",
      "Step 4: Decrypting the message (ECIES)\n",
      "\n",
      "Detailed Decryption Process:\n",
      "Shared Secret derived (ECDH - receiver): 54eb412ee1dd664e04f3d0dc23a71cad58c162e164f50c308eb783802c9b84ee\n",
      "Derived Key (SHA-256 - receiver): 5730c6201a30f5048eb48c3171912c7c45039215f732662c96f233f2efd34422\n",
      "Encryption Key (AES - receiver): 5730c6201a30f5048eb48c3171912c7c\n",
      "MAC Key (receiver): 45039215f732662c96f233f2efd34422\n",
      "\n",
      "Decrypted Message: check 1 check 2\n"
     ]
    }
   ],
   "source": [
    "# Step 4: Decrypt the message using the decrypt() function\n",
    "print(\"\\nStep 4: Decrypting the message (ECIES)\")\n",
    "# ECIES decryption process - Detailed\n",
    "decrypted_message = decrypt(private_key_hex, encrypted_message)\n",
    "print(\"\\nDetailed Decryption Process:\")\n",
    "# 4.1: The receiver uses their private key and the sender's public key to derive the shared secret (ECDH)\n",
    "receiver_shared_secret = private_key.ecdh(receiver_public_key)\n",
    "print(\"Shared Secret derived (ECDH - receiver):\", receiver_shared_secret.hex())\n",
    "# 4.2: KDF to derive the decryption key and MAC key from the shared secret\n",
    "derived_key_receiver = hashlib.sha256(receiver_shared_secret).digest()  # Use SHA-256 as KDF\n",
    "encryption_key_receiver = derived_key_receiver[:16]  # AES encryption key (first 16 bytes)\n",
    "mac_key_receiver = derived_key_receiver[16:]  # MAC key (next 16 bytes)\n",
    "print(\"Derived Key (SHA-256 - receiver):\", derived_key_receiver.hex())\n",
    "print(\"Encryption Key (AES - receiver):\", encryption_key_receiver.hex())\n",
    "print(\"MAC Key (receiver):\", mac_key_receiver.hex())\n",
    "# 4.3: The receiver checks the MAC to verify integrity and authenticity (this is a simplified model, actual ECIES checks it)\n",
    "# 4.4: AES decryption is done using the derived encryption key\n",
    "print(\"\\nDecrypted Message:\", decrypted_message.decode())"
   ]
  }
 ],
 "metadata": {
  "kernelspec": {
   "display_name": "Python 3 (ipykernel)",
   "language": "python",
   "name": "python3"
  },
  "language_info": {
   "codemirror_mode": {
    "name": "ipython",
    "version": 3
   },
   "file_extension": ".py",
   "mimetype": "text/x-python",
   "name": "python",
   "nbconvert_exporter": "python",
   "pygments_lexer": "ipython3",
   "version": "3.12.3"
  }
 },
 "nbformat": 4,
 "nbformat_minor": 5
}
